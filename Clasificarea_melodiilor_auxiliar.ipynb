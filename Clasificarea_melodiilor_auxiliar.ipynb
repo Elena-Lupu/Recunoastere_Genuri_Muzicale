{
 "cells": [
  {
   "cell_type": "markdown",
   "id": "06517271",
   "metadata": {},
   "source": [
    "Acestea sunt codurile folosite pentru crearea bazelor de antrenament:"
   ]
  },
  {
   "cell_type": "markdown",
   "id": "bff32922",
   "metadata": {},
   "source": [
    "- Pentru algoritmul CMMP (oferă un fișier .csv)"
   ]
  },
  {
   "cell_type": "code",
   "execution_count": null,
   "id": "b62dc55d",
   "metadata": {},
   "outputs": [],
   "source": [
    "def make_mel_spectrogram_df(directory):\n",
    "    labels = []\n",
    "    mel_specs = []\n",
    "    for file in os.scandir(directory):\n",
    "        y, sr = librosa.core.load(file)\n",
    "        label = str(file).split('.')[0][11:]\n",
    "        labels.append(label)\n",
    "        spect = librosa.feature.melspectrogram(y=y, sr=sr, n_fft=2048, hop_length=1024)\n",
    "        spect = librosa.power_to_db(spect, ref=np.max)\n",
    "        if spect.shape[1] != 660: spect.resize(128,660, refcheck=False)\n",
    "        spect = spect.flatten()\n",
    "        mel_specs.append(spect)\n",
    "    mel_specs = np.array(mel_specs)\n",
    "    labels = np.array(labels).reshape(1000,1)\n",
    "    df = pd.DataFrame(np.hstack((mel_specs,labels)))\n",
    "    \n",
    "    return df\n",
    "\n",
    "\n",
    "df = make_mel_spectrogram_df('./genres/all')\n",
    "df.to_csv('./genres/genre_mel_specs.csv', index=False)"
   ]
  },
  {
   "cell_type": "markdown",
   "id": "4d32c7ae",
   "metadata": {},
   "source": [
    "- Pentru algoritmul KNN (oferă un fișier .dat)"
   ]
  },
  {
   "cell_type": "code",
   "execution_count": null,
   "id": "c9280171",
   "metadata": {},
   "outputs": [],
   "source": [
    "directory = \"genres/gen\"\n",
    "f = open(\"my.dat\" ,'wb')\n",
    "i = 0\n",
    "\n",
    "for folder in os.listdir(directory):\n",
    "    i+=1\n",
    "    if i==11 :\n",
    "        break   \n",
    "    for file in os.listdir(directory+\"/\"+folder+\"/\"):  \n",
    "        try:\n",
    "          (rate,sig) = wav.read(directory+\"/\"+folder+\"/\"+file)\n",
    "        except:\n",
    "          continue\n",
    "        mfcc_feat = mfcc(sig,rate ,winlen=0.020, appendEnergy = False)\n",
    "        covariance = np.cov(np.matrix.transpose(mfcc_feat))\n",
    "        mean_matrix = mfcc_feat.mean(0)\n",
    "        feature = (mean_matrix , covariance , i)\n",
    "        pickle.dump(feature , f)\n",
    "\n",
    "f.close()"
   ]
  }
 ],
 "metadata": {
  "kernelspec": {
   "display_name": "Python 3 (ipykernel)",
   "language": "python",
   "name": "python3"
  },
  "language_info": {
   "codemirror_mode": {
    "name": "ipython",
    "version": 3
   },
   "file_extension": ".py",
   "mimetype": "text/x-python",
   "name": "python",
   "nbconvert_exporter": "python",
   "pygments_lexer": "ipython3",
   "version": "3.9.7"
  }
 },
 "nbformat": 4,
 "nbformat_minor": 5
}
